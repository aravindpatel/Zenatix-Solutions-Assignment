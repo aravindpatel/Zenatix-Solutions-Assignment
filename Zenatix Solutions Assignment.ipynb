{
 "cells": [
  {
   "cell_type": "markdown",
   "metadata": {},
   "source": [
    "# Importing necessary libraries"
   ]
  },
  {
   "cell_type": "code",
   "execution_count": 2,
   "metadata": {},
   "outputs": [],
   "source": [
    "import pandas as pd\n",
    "import numpy as np\n",
    "import seaborn as sns\n",
    "import matplotlib.pyplot as plt\n",
    "%matplotlib inline\n"
   ]
  },
  {
   "cell_type": "code",
   "execution_count": 3,
   "metadata": {},
   "outputs": [],
   "source": [
    "import warnings\n",
    "warnings.filterwarnings(\"ignore\")"
   ]
  },
  {
   "cell_type": "code",
   "execution_count": 4,
   "metadata": {},
   "outputs": [],
   "source": [
    "df=pd.read_csv('AC_Data.csv')"
   ]
  },
  {
   "cell_type": "code",
   "execution_count": 5,
   "metadata": {},
   "outputs": [
    {
     "data": {
      "text/html": [
       "<div>\n",
       "<style scoped>\n",
       "    .dataframe tbody tr th:only-of-type {\n",
       "        vertical-align: middle;\n",
       "    }\n",
       "\n",
       "    .dataframe tbody tr th {\n",
       "        vertical-align: top;\n",
       "    }\n",
       "\n",
       "    .dataframe thead th {\n",
       "        text-align: right;\n",
       "    }\n",
       "</style>\n",
       "<table border=\"1\" class=\"dataframe\">\n",
       "  <thead>\n",
       "    <tr style=\"text-align: right;\">\n",
       "      <th></th>\n",
       "      <th>0</th>\n",
       "      <th>AC 1</th>\n",
       "      <th>AC 2</th>\n",
       "      <th>AC 3</th>\n",
       "      <th>AC 4</th>\n",
       "      <th>AC 5</th>\n",
       "      <th>AC 6</th>\n",
       "      <th>AC 7</th>\n",
       "      <th>AC 8</th>\n",
       "      <th>AC 9</th>\n",
       "      <th>AC 10</th>\n",
       "      <th>AC 11</th>\n",
       "      <th>AC 12</th>\n",
       "      <th>AC 13</th>\n",
       "      <th>AC 14</th>\n",
       "      <th>AC 15</th>\n",
       "      <th>AC 16</th>\n",
       "      <th>AC 17</th>\n",
       "      <th>AC 18</th>\n",
       "    </tr>\n",
       "  </thead>\n",
       "  <tbody>\n",
       "    <tr>\n",
       "      <th>0</th>\n",
       "      <td>2019-08-01 00:00:00</td>\n",
       "      <td>7.518632</td>\n",
       "      <td>8.788315</td>\n",
       "      <td>0.0</td>\n",
       "      <td>0.0</td>\n",
       "      <td>2.617045</td>\n",
       "      <td>4.079041</td>\n",
       "      <td>2.782276</td>\n",
       "      <td>4.624447</td>\n",
       "      <td>5.222060</td>\n",
       "      <td>2.151238</td>\n",
       "      <td>1.585072</td>\n",
       "      <td>0.560373</td>\n",
       "      <td>3.142941</td>\n",
       "      <td>2.749470</td>\n",
       "      <td>5.417774</td>\n",
       "      <td>4.113460</td>\n",
       "      <td>3.305072</td>\n",
       "      <td>6.735981</td>\n",
       "    </tr>\n",
       "    <tr>\n",
       "      <th>1</th>\n",
       "      <td>2019-08-01 00:01:00</td>\n",
       "      <td>NaN</td>\n",
       "      <td>NaN</td>\n",
       "      <td>NaN</td>\n",
       "      <td>NaN</td>\n",
       "      <td>NaN</td>\n",
       "      <td>NaN</td>\n",
       "      <td>NaN</td>\n",
       "      <td>NaN</td>\n",
       "      <td>NaN</td>\n",
       "      <td>NaN</td>\n",
       "      <td>NaN</td>\n",
       "      <td>NaN</td>\n",
       "      <td>NaN</td>\n",
       "      <td>NaN</td>\n",
       "      <td>NaN</td>\n",
       "      <td>NaN</td>\n",
       "      <td>NaN</td>\n",
       "      <td>NaN</td>\n",
       "    </tr>\n",
       "    <tr>\n",
       "      <th>2</th>\n",
       "      <td>2019-08-01 00:02:00</td>\n",
       "      <td>7.426114</td>\n",
       "      <td>8.940615</td>\n",
       "      <td>0.0</td>\n",
       "      <td>0.0</td>\n",
       "      <td>2.581625</td>\n",
       "      <td>3.781231</td>\n",
       "      <td>2.529366</td>\n",
       "      <td>5.057423</td>\n",
       "      <td>5.349465</td>\n",
       "      <td>2.414715</td>\n",
       "      <td>2.168184</td>\n",
       "      <td>1.818730</td>\n",
       "      <td>3.085110</td>\n",
       "      <td>2.720484</td>\n",
       "      <td>3.302422</td>\n",
       "      <td>3.986483</td>\n",
       "      <td>3.220588</td>\n",
       "      <td>6.379500</td>\n",
       "    </tr>\n",
       "    <tr>\n",
       "      <th>3</th>\n",
       "      <td>2019-08-01 00:03:00</td>\n",
       "      <td>NaN</td>\n",
       "      <td>NaN</td>\n",
       "      <td>NaN</td>\n",
       "      <td>NaN</td>\n",
       "      <td>NaN</td>\n",
       "      <td>NaN</td>\n",
       "      <td>NaN</td>\n",
       "      <td>NaN</td>\n",
       "      <td>NaN</td>\n",
       "      <td>NaN</td>\n",
       "      <td>NaN</td>\n",
       "      <td>NaN</td>\n",
       "      <td>NaN</td>\n",
       "      <td>NaN</td>\n",
       "      <td>NaN</td>\n",
       "      <td>NaN</td>\n",
       "      <td>NaN</td>\n",
       "      <td>NaN</td>\n",
       "    </tr>\n",
       "    <tr>\n",
       "      <th>4</th>\n",
       "      <td>2019-08-01 00:04:00</td>\n",
       "      <td>7.052986</td>\n",
       "      <td>9.161103</td>\n",
       "      <td>0.0</td>\n",
       "      <td>0.0</td>\n",
       "      <td>2.592095</td>\n",
       "      <td>3.800127</td>\n",
       "      <td>2.332304</td>\n",
       "      <td>6.322521</td>\n",
       "      <td>3.995392</td>\n",
       "      <td>2.237114</td>\n",
       "      <td>3.345624</td>\n",
       "      <td>2.310409</td>\n",
       "      <td>3.132799</td>\n",
       "      <td>2.676861</td>\n",
       "      <td>3.539026</td>\n",
       "      <td>3.797881</td>\n",
       "      <td>3.131560</td>\n",
       "      <td>6.363475</td>\n",
       "    </tr>\n",
       "  </tbody>\n",
       "</table>\n",
       "</div>"
      ],
      "text/plain": [
       "                     0      AC 1      AC 2  AC 3  AC 4      AC 5      AC 6  \\\n",
       "0  2019-08-01 00:00:00  7.518632  8.788315   0.0   0.0  2.617045  4.079041   \n",
       "1  2019-08-01 00:01:00       NaN       NaN   NaN   NaN       NaN       NaN   \n",
       "2  2019-08-01 00:02:00  7.426114  8.940615   0.0   0.0  2.581625  3.781231   \n",
       "3  2019-08-01 00:03:00       NaN       NaN   NaN   NaN       NaN       NaN   \n",
       "4  2019-08-01 00:04:00  7.052986  9.161103   0.0   0.0  2.592095  3.800127   \n",
       "\n",
       "       AC 7      AC 8      AC 9     AC 10     AC 11     AC 12     AC 13  \\\n",
       "0  2.782276  4.624447  5.222060  2.151238  1.585072  0.560373  3.142941   \n",
       "1       NaN       NaN       NaN       NaN       NaN       NaN       NaN   \n",
       "2  2.529366  5.057423  5.349465  2.414715  2.168184  1.818730  3.085110   \n",
       "3       NaN       NaN       NaN       NaN       NaN       NaN       NaN   \n",
       "4  2.332304  6.322521  3.995392  2.237114  3.345624  2.310409  3.132799   \n",
       "\n",
       "      AC 14     AC 15     AC 16     AC 17     AC 18  \n",
       "0  2.749470  5.417774  4.113460  3.305072  6.735981  \n",
       "1       NaN       NaN       NaN       NaN       NaN  \n",
       "2  2.720484  3.302422  3.986483  3.220588  6.379500  \n",
       "3       NaN       NaN       NaN       NaN       NaN  \n",
       "4  2.676861  3.539026  3.797881  3.131560  6.363475  "
      ]
     },
     "execution_count": 5,
     "metadata": {},
     "output_type": "execute_result"
    }
   ],
   "source": [
    "df.head()"
   ]
  },
  {
   "cell_type": "code",
   "execution_count": 6,
   "metadata": {
    "scrolled": true
   },
   "outputs": [
    {
     "data": {
      "text/html": [
       "<div>\n",
       "<style scoped>\n",
       "    .dataframe tbody tr th:only-of-type {\n",
       "        vertical-align: middle;\n",
       "    }\n",
       "\n",
       "    .dataframe tbody tr th {\n",
       "        vertical-align: top;\n",
       "    }\n",
       "\n",
       "    .dataframe thead th {\n",
       "        text-align: right;\n",
       "    }\n",
       "</style>\n",
       "<table border=\"1\" class=\"dataframe\">\n",
       "  <thead>\n",
       "    <tr style=\"text-align: right;\">\n",
       "      <th></th>\n",
       "      <th>0</th>\n",
       "      <th>AC 1</th>\n",
       "      <th>AC 2</th>\n",
       "      <th>AC 3</th>\n",
       "      <th>AC 4</th>\n",
       "      <th>AC 5</th>\n",
       "      <th>AC 6</th>\n",
       "      <th>AC 7</th>\n",
       "      <th>AC 8</th>\n",
       "      <th>AC 9</th>\n",
       "      <th>AC 10</th>\n",
       "      <th>AC 11</th>\n",
       "      <th>AC 12</th>\n",
       "      <th>AC 13</th>\n",
       "      <th>AC 14</th>\n",
       "      <th>AC 15</th>\n",
       "      <th>AC 16</th>\n",
       "      <th>AC 17</th>\n",
       "      <th>AC 18</th>\n",
       "    </tr>\n",
       "  </thead>\n",
       "  <tbody>\n",
       "    <tr>\n",
       "      <th>14484</th>\n",
       "      <td>2019-08-11 01:24:00</td>\n",
       "      <td>0.000000</td>\n",
       "      <td>2.387008</td>\n",
       "      <td>1.152216</td>\n",
       "      <td>2.659048</td>\n",
       "      <td>1.509297</td>\n",
       "      <td>6.420822</td>\n",
       "      <td>1.926572</td>\n",
       "      <td>3.518872</td>\n",
       "      <td>3.641546</td>\n",
       "      <td>1.582801</td>\n",
       "      <td>3.297621</td>\n",
       "      <td>6.068681</td>\n",
       "      <td>3.289557</td>\n",
       "      <td>1.759207</td>\n",
       "      <td>5.190224</td>\n",
       "      <td>2.781516</td>\n",
       "      <td>2.439115</td>\n",
       "      <td>7.244421</td>\n",
       "    </tr>\n",
       "    <tr>\n",
       "      <th>14979</th>\n",
       "      <td>2019-08-11 09:39:00</td>\n",
       "      <td>NaN</td>\n",
       "      <td>NaN</td>\n",
       "      <td>NaN</td>\n",
       "      <td>NaN</td>\n",
       "      <td>NaN</td>\n",
       "      <td>NaN</td>\n",
       "      <td>NaN</td>\n",
       "      <td>NaN</td>\n",
       "      <td>NaN</td>\n",
       "      <td>NaN</td>\n",
       "      <td>NaN</td>\n",
       "      <td>NaN</td>\n",
       "      <td>NaN</td>\n",
       "      <td>NaN</td>\n",
       "      <td>NaN</td>\n",
       "      <td>NaN</td>\n",
       "      <td>NaN</td>\n",
       "      <td>NaN</td>\n",
       "    </tr>\n",
       "    <tr>\n",
       "      <th>30294</th>\n",
       "      <td>2019-08-22 00:54:00</td>\n",
       "      <td>NaN</td>\n",
       "      <td>8.789563</td>\n",
       "      <td>2.728606</td>\n",
       "      <td>NaN</td>\n",
       "      <td>NaN</td>\n",
       "      <td>NaN</td>\n",
       "      <td>3.547759</td>\n",
       "      <td>3.935410</td>\n",
       "      <td>5.261533</td>\n",
       "      <td>NaN</td>\n",
       "      <td>2.222442</td>\n",
       "      <td>NaN</td>\n",
       "      <td>NaN</td>\n",
       "      <td>4.449163</td>\n",
       "      <td>NaN</td>\n",
       "      <td>NaN</td>\n",
       "      <td>NaN</td>\n",
       "      <td>NaN</td>\n",
       "    </tr>\n",
       "    <tr>\n",
       "      <th>39006</th>\n",
       "      <td>2019-08-28 02:06:00</td>\n",
       "      <td>NaN</td>\n",
       "      <td>NaN</td>\n",
       "      <td>NaN</td>\n",
       "      <td>NaN</td>\n",
       "      <td>NaN</td>\n",
       "      <td>NaN</td>\n",
       "      <td>NaN</td>\n",
       "      <td>NaN</td>\n",
       "      <td>NaN</td>\n",
       "      <td>NaN</td>\n",
       "      <td>NaN</td>\n",
       "      <td>NaN</td>\n",
       "      <td>NaN</td>\n",
       "      <td>NaN</td>\n",
       "      <td>NaN</td>\n",
       "      <td>NaN</td>\n",
       "      <td>NaN</td>\n",
       "      <td>NaN</td>\n",
       "    </tr>\n",
       "    <tr>\n",
       "      <th>13375</th>\n",
       "      <td>2019-08-10 06:55:00</td>\n",
       "      <td>NaN</td>\n",
       "      <td>NaN</td>\n",
       "      <td>NaN</td>\n",
       "      <td>NaN</td>\n",
       "      <td>NaN</td>\n",
       "      <td>NaN</td>\n",
       "      <td>NaN</td>\n",
       "      <td>NaN</td>\n",
       "      <td>NaN</td>\n",
       "      <td>NaN</td>\n",
       "      <td>NaN</td>\n",
       "      <td>NaN</td>\n",
       "      <td>NaN</td>\n",
       "      <td>NaN</td>\n",
       "      <td>NaN</td>\n",
       "      <td>NaN</td>\n",
       "      <td>NaN</td>\n",
       "      <td>NaN</td>\n",
       "    </tr>\n",
       "    <tr>\n",
       "      <th>49528</th>\n",
       "      <td>2019-09-04 09:28:00</td>\n",
       "      <td>NaN</td>\n",
       "      <td>NaN</td>\n",
       "      <td>NaN</td>\n",
       "      <td>NaN</td>\n",
       "      <td>NaN</td>\n",
       "      <td>NaN</td>\n",
       "      <td>NaN</td>\n",
       "      <td>NaN</td>\n",
       "      <td>NaN</td>\n",
       "      <td>NaN</td>\n",
       "      <td>NaN</td>\n",
       "      <td>NaN</td>\n",
       "      <td>NaN</td>\n",
       "      <td>NaN</td>\n",
       "      <td>NaN</td>\n",
       "      <td>NaN</td>\n",
       "      <td>NaN</td>\n",
       "      <td>NaN</td>\n",
       "    </tr>\n",
       "    <tr>\n",
       "      <th>35416</th>\n",
       "      <td>2019-08-25 14:16:00</td>\n",
       "      <td>NaN</td>\n",
       "      <td>NaN</td>\n",
       "      <td>NaN</td>\n",
       "      <td>NaN</td>\n",
       "      <td>NaN</td>\n",
       "      <td>NaN</td>\n",
       "      <td>NaN</td>\n",
       "      <td>NaN</td>\n",
       "      <td>NaN</td>\n",
       "      <td>NaN</td>\n",
       "      <td>NaN</td>\n",
       "      <td>NaN</td>\n",
       "      <td>NaN</td>\n",
       "      <td>NaN</td>\n",
       "      <td>NaN</td>\n",
       "      <td>NaN</td>\n",
       "      <td>NaN</td>\n",
       "      <td>NaN</td>\n",
       "    </tr>\n",
       "    <tr>\n",
       "      <th>25791</th>\n",
       "      <td>2019-08-18 21:51:00</td>\n",
       "      <td>3.590630</td>\n",
       "      <td>4.471933</td>\n",
       "      <td>NaN</td>\n",
       "      <td>3.030274</td>\n",
       "      <td>0.000000</td>\n",
       "      <td>0.000000</td>\n",
       "      <td>NaN</td>\n",
       "      <td>NaN</td>\n",
       "      <td>NaN</td>\n",
       "      <td>1.575130</td>\n",
       "      <td>NaN</td>\n",
       "      <td>1.307798</td>\n",
       "      <td>3.823610</td>\n",
       "      <td>NaN</td>\n",
       "      <td>2.797328</td>\n",
       "      <td>NaN</td>\n",
       "      <td>3.459782</td>\n",
       "      <td>6.806448</td>\n",
       "    </tr>\n",
       "    <tr>\n",
       "      <th>33317</th>\n",
       "      <td>2019-08-24 03:17:00</td>\n",
       "      <td>1.769558</td>\n",
       "      <td>NaN</td>\n",
       "      <td>NaN</td>\n",
       "      <td>3.943995</td>\n",
       "      <td>2.311375</td>\n",
       "      <td>4.055937</td>\n",
       "      <td>NaN</td>\n",
       "      <td>NaN</td>\n",
       "      <td>NaN</td>\n",
       "      <td>1.375481</td>\n",
       "      <td>NaN</td>\n",
       "      <td>2.446249</td>\n",
       "      <td>4.068961</td>\n",
       "      <td>NaN</td>\n",
       "      <td>4.380850</td>\n",
       "      <td>3.701006</td>\n",
       "      <td>4.507729</td>\n",
       "      <td>3.807479</td>\n",
       "    </tr>\n",
       "    <tr>\n",
       "      <th>42239</th>\n",
       "      <td>2019-08-30 07:59:00</td>\n",
       "      <td>3.422103</td>\n",
       "      <td>4.194111</td>\n",
       "      <td>1.531910</td>\n",
       "      <td>1.648107</td>\n",
       "      <td>1.655220</td>\n",
       "      <td>3.657179</td>\n",
       "      <td>3.461998</td>\n",
       "      <td>2.149634</td>\n",
       "      <td>1.694401</td>\n",
       "      <td>0.799181</td>\n",
       "      <td>2.849474</td>\n",
       "      <td>3.135440</td>\n",
       "      <td>2.086030</td>\n",
       "      <td>2.853748</td>\n",
       "      <td>3.752174</td>\n",
       "      <td>3.902382</td>\n",
       "      <td>4.025492</td>\n",
       "      <td>3.854525</td>\n",
       "    </tr>\n",
       "    <tr>\n",
       "      <th>75956</th>\n",
       "      <td>2019-09-22 17:56:00</td>\n",
       "      <td>NaN</td>\n",
       "      <td>NaN</td>\n",
       "      <td>NaN</td>\n",
       "      <td>NaN</td>\n",
       "      <td>NaN</td>\n",
       "      <td>NaN</td>\n",
       "      <td>NaN</td>\n",
       "      <td>NaN</td>\n",
       "      <td>NaN</td>\n",
       "      <td>NaN</td>\n",
       "      <td>NaN</td>\n",
       "      <td>NaN</td>\n",
       "      <td>NaN</td>\n",
       "      <td>NaN</td>\n",
       "      <td>NaN</td>\n",
       "      <td>NaN</td>\n",
       "      <td>NaN</td>\n",
       "      <td>NaN</td>\n",
       "    </tr>\n",
       "    <tr>\n",
       "      <th>59163</th>\n",
       "      <td>2019-09-11 02:03:00</td>\n",
       "      <td>1.485557</td>\n",
       "      <td>4.515187</td>\n",
       "      <td>4.191255</td>\n",
       "      <td>7.315582</td>\n",
       "      <td>1.574248</td>\n",
       "      <td>3.447948</td>\n",
       "      <td>3.524088</td>\n",
       "      <td>4.372722</td>\n",
       "      <td>3.074737</td>\n",
       "      <td>1.731188</td>\n",
       "      <td>3.473491</td>\n",
       "      <td>4.390114</td>\n",
       "      <td>5.030112</td>\n",
       "      <td>6.992770</td>\n",
       "      <td>6.827450</td>\n",
       "      <td>6.005932</td>\n",
       "      <td>4.433633</td>\n",
       "      <td>3.675674</td>\n",
       "    </tr>\n",
       "    <tr>\n",
       "      <th>21057</th>\n",
       "      <td>2019-08-15 14:57:00</td>\n",
       "      <td>0.000000</td>\n",
       "      <td>0.000000</td>\n",
       "      <td>NaN</td>\n",
       "      <td>0.000000</td>\n",
       "      <td>0.000000</td>\n",
       "      <td>2.743823</td>\n",
       "      <td>NaN</td>\n",
       "      <td>1.857461</td>\n",
       "      <td>NaN</td>\n",
       "      <td>2.028458</td>\n",
       "      <td>NaN</td>\n",
       "      <td>2.270299</td>\n",
       "      <td>3.732432</td>\n",
       "      <td>2.178546</td>\n",
       "      <td>0.000000</td>\n",
       "      <td>1.209170</td>\n",
       "      <td>4.866613</td>\n",
       "      <td>8.129798</td>\n",
       "    </tr>\n",
       "    <tr>\n",
       "      <th>31455</th>\n",
       "      <td>2019-08-22 20:15:00</td>\n",
       "      <td>3.336284</td>\n",
       "      <td>5.029531</td>\n",
       "      <td>NaN</td>\n",
       "      <td>2.471193</td>\n",
       "      <td>1.341099</td>\n",
       "      <td>3.594873</td>\n",
       "      <td>NaN</td>\n",
       "      <td>2.631907</td>\n",
       "      <td>NaN</td>\n",
       "      <td>1.611275</td>\n",
       "      <td>NaN</td>\n",
       "      <td>0.000000</td>\n",
       "      <td>5.992723</td>\n",
       "      <td>NaN</td>\n",
       "      <td>1.389077</td>\n",
       "      <td>1.276445</td>\n",
       "      <td>4.902887</td>\n",
       "      <td>8.539735</td>\n",
       "    </tr>\n",
       "    <tr>\n",
       "      <th>63555</th>\n",
       "      <td>2019-09-14 03:15:00</td>\n",
       "      <td>NaN</td>\n",
       "      <td>NaN</td>\n",
       "      <td>NaN</td>\n",
       "      <td>NaN</td>\n",
       "      <td>NaN</td>\n",
       "      <td>NaN</td>\n",
       "      <td>NaN</td>\n",
       "      <td>NaN</td>\n",
       "      <td>NaN</td>\n",
       "      <td>NaN</td>\n",
       "      <td>NaN</td>\n",
       "      <td>NaN</td>\n",
       "      <td>NaN</td>\n",
       "      <td>NaN</td>\n",
       "      <td>NaN</td>\n",
       "      <td>NaN</td>\n",
       "      <td>NaN</td>\n",
       "      <td>NaN</td>\n",
       "    </tr>\n",
       "    <tr>\n",
       "      <th>82784</th>\n",
       "      <td>2019-09-27 11:44:00</td>\n",
       "      <td>NaN</td>\n",
       "      <td>NaN</td>\n",
       "      <td>NaN</td>\n",
       "      <td>NaN</td>\n",
       "      <td>NaN</td>\n",
       "      <td>NaN</td>\n",
       "      <td>NaN</td>\n",
       "      <td>NaN</td>\n",
       "      <td>NaN</td>\n",
       "      <td>NaN</td>\n",
       "      <td>NaN</td>\n",
       "      <td>NaN</td>\n",
       "      <td>NaN</td>\n",
       "      <td>NaN</td>\n",
       "      <td>NaN</td>\n",
       "      <td>NaN</td>\n",
       "      <td>NaN</td>\n",
       "      <td>NaN</td>\n",
       "    </tr>\n",
       "    <tr>\n",
       "      <th>45667</th>\n",
       "      <td>2019-09-01 17:07:00</td>\n",
       "      <td>0.000000</td>\n",
       "      <td>2.618774</td>\n",
       "      <td>0.000000</td>\n",
       "      <td>2.041604</td>\n",
       "      <td>2.012781</td>\n",
       "      <td>0.000000</td>\n",
       "      <td>2.494377</td>\n",
       "      <td>1.643783</td>\n",
       "      <td>2.322456</td>\n",
       "      <td>1.631258</td>\n",
       "      <td>0.000000</td>\n",
       "      <td>2.732683</td>\n",
       "      <td>6.557846</td>\n",
       "      <td>0.000000</td>\n",
       "      <td>2.001470</td>\n",
       "      <td>0.000000</td>\n",
       "      <td>3.366045</td>\n",
       "      <td>5.516298</td>\n",
       "    </tr>\n",
       "    <tr>\n",
       "      <th>26611</th>\n",
       "      <td>2019-08-19 11:31:00</td>\n",
       "      <td>3.761800</td>\n",
       "      <td>3.987717</td>\n",
       "      <td>1.516908</td>\n",
       "      <td>1.289565</td>\n",
       "      <td>0.000000</td>\n",
       "      <td>0.000000</td>\n",
       "      <td>2.379226</td>\n",
       "      <td>0.000000</td>\n",
       "      <td>NaN</td>\n",
       "      <td>1.206303</td>\n",
       "      <td>NaN</td>\n",
       "      <td>3.214832</td>\n",
       "      <td>6.914417</td>\n",
       "      <td>2.096513</td>\n",
       "      <td>3.798460</td>\n",
       "      <td>2.416352</td>\n",
       "      <td>4.762874</td>\n",
       "      <td>9.163867</td>\n",
       "    </tr>\n",
       "    <tr>\n",
       "      <th>22464</th>\n",
       "      <td>2019-08-16 14:24:00</td>\n",
       "      <td>NaN</td>\n",
       "      <td>NaN</td>\n",
       "      <td>4.233806</td>\n",
       "      <td>NaN</td>\n",
       "      <td>NaN</td>\n",
       "      <td>NaN</td>\n",
       "      <td>3.237555</td>\n",
       "      <td>NaN</td>\n",
       "      <td>1.897078</td>\n",
       "      <td>NaN</td>\n",
       "      <td>2.290594</td>\n",
       "      <td>NaN</td>\n",
       "      <td>NaN</td>\n",
       "      <td>3.512542</td>\n",
       "      <td>NaN</td>\n",
       "      <td>NaN</td>\n",
       "      <td>NaN</td>\n",
       "      <td>NaN</td>\n",
       "    </tr>\n",
       "    <tr>\n",
       "      <th>87015</th>\n",
       "      <td>2019-09-30 10:15:00</td>\n",
       "      <td>2.246415</td>\n",
       "      <td>3.168202</td>\n",
       "      <td>1.903691</td>\n",
       "      <td>0.000000</td>\n",
       "      <td>0.000000</td>\n",
       "      <td>0.000000</td>\n",
       "      <td>0.000000</td>\n",
       "      <td>2.586125</td>\n",
       "      <td>1.753163</td>\n",
       "      <td>0.763035</td>\n",
       "      <td>2.026194</td>\n",
       "      <td>1.200663</td>\n",
       "      <td>2.493078</td>\n",
       "      <td>1.704776</td>\n",
       "      <td>1.624797</td>\n",
       "      <td>2.486087</td>\n",
       "      <td>3.609065</td>\n",
       "      <td>6.589724</td>\n",
       "    </tr>\n",
       "  </tbody>\n",
       "</table>\n",
       "</div>"
      ],
      "text/plain": [
       "                         0      AC 1      AC 2      AC 3      AC 4      AC 5  \\\n",
       "14484  2019-08-11 01:24:00  0.000000  2.387008  1.152216  2.659048  1.509297   \n",
       "14979  2019-08-11 09:39:00       NaN       NaN       NaN       NaN       NaN   \n",
       "30294  2019-08-22 00:54:00       NaN  8.789563  2.728606       NaN       NaN   \n",
       "39006  2019-08-28 02:06:00       NaN       NaN       NaN       NaN       NaN   \n",
       "13375  2019-08-10 06:55:00       NaN       NaN       NaN       NaN       NaN   \n",
       "49528  2019-09-04 09:28:00       NaN       NaN       NaN       NaN       NaN   \n",
       "35416  2019-08-25 14:16:00       NaN       NaN       NaN       NaN       NaN   \n",
       "25791  2019-08-18 21:51:00  3.590630  4.471933       NaN  3.030274  0.000000   \n",
       "33317  2019-08-24 03:17:00  1.769558       NaN       NaN  3.943995  2.311375   \n",
       "42239  2019-08-30 07:59:00  3.422103  4.194111  1.531910  1.648107  1.655220   \n",
       "75956  2019-09-22 17:56:00       NaN       NaN       NaN       NaN       NaN   \n",
       "59163  2019-09-11 02:03:00  1.485557  4.515187  4.191255  7.315582  1.574248   \n",
       "21057  2019-08-15 14:57:00  0.000000  0.000000       NaN  0.000000  0.000000   \n",
       "31455  2019-08-22 20:15:00  3.336284  5.029531       NaN  2.471193  1.341099   \n",
       "63555  2019-09-14 03:15:00       NaN       NaN       NaN       NaN       NaN   \n",
       "82784  2019-09-27 11:44:00       NaN       NaN       NaN       NaN       NaN   \n",
       "45667  2019-09-01 17:07:00  0.000000  2.618774  0.000000  2.041604  2.012781   \n",
       "26611  2019-08-19 11:31:00  3.761800  3.987717  1.516908  1.289565  0.000000   \n",
       "22464  2019-08-16 14:24:00       NaN       NaN  4.233806       NaN       NaN   \n",
       "87015  2019-09-30 10:15:00  2.246415  3.168202  1.903691  0.000000  0.000000   \n",
       "\n",
       "           AC 6      AC 7      AC 8      AC 9     AC 10     AC 11     AC 12  \\\n",
       "14484  6.420822  1.926572  3.518872  3.641546  1.582801  3.297621  6.068681   \n",
       "14979       NaN       NaN       NaN       NaN       NaN       NaN       NaN   \n",
       "30294       NaN  3.547759  3.935410  5.261533       NaN  2.222442       NaN   \n",
       "39006       NaN       NaN       NaN       NaN       NaN       NaN       NaN   \n",
       "13375       NaN       NaN       NaN       NaN       NaN       NaN       NaN   \n",
       "49528       NaN       NaN       NaN       NaN       NaN       NaN       NaN   \n",
       "35416       NaN       NaN       NaN       NaN       NaN       NaN       NaN   \n",
       "25791  0.000000       NaN       NaN       NaN  1.575130       NaN  1.307798   \n",
       "33317  4.055937       NaN       NaN       NaN  1.375481       NaN  2.446249   \n",
       "42239  3.657179  3.461998  2.149634  1.694401  0.799181  2.849474  3.135440   \n",
       "75956       NaN       NaN       NaN       NaN       NaN       NaN       NaN   \n",
       "59163  3.447948  3.524088  4.372722  3.074737  1.731188  3.473491  4.390114   \n",
       "21057  2.743823       NaN  1.857461       NaN  2.028458       NaN  2.270299   \n",
       "31455  3.594873       NaN  2.631907       NaN  1.611275       NaN  0.000000   \n",
       "63555       NaN       NaN       NaN       NaN       NaN       NaN       NaN   \n",
       "82784       NaN       NaN       NaN       NaN       NaN       NaN       NaN   \n",
       "45667  0.000000  2.494377  1.643783  2.322456  1.631258  0.000000  2.732683   \n",
       "26611  0.000000  2.379226  0.000000       NaN  1.206303       NaN  3.214832   \n",
       "22464       NaN  3.237555       NaN  1.897078       NaN  2.290594       NaN   \n",
       "87015  0.000000  0.000000  2.586125  1.753163  0.763035  2.026194  1.200663   \n",
       "\n",
       "          AC 13     AC 14     AC 15     AC 16     AC 17     AC 18  \n",
       "14484  3.289557  1.759207  5.190224  2.781516  2.439115  7.244421  \n",
       "14979       NaN       NaN       NaN       NaN       NaN       NaN  \n",
       "30294       NaN  4.449163       NaN       NaN       NaN       NaN  \n",
       "39006       NaN       NaN       NaN       NaN       NaN       NaN  \n",
       "13375       NaN       NaN       NaN       NaN       NaN       NaN  \n",
       "49528       NaN       NaN       NaN       NaN       NaN       NaN  \n",
       "35416       NaN       NaN       NaN       NaN       NaN       NaN  \n",
       "25791  3.823610       NaN  2.797328       NaN  3.459782  6.806448  \n",
       "33317  4.068961       NaN  4.380850  3.701006  4.507729  3.807479  \n",
       "42239  2.086030  2.853748  3.752174  3.902382  4.025492  3.854525  \n",
       "75956       NaN       NaN       NaN       NaN       NaN       NaN  \n",
       "59163  5.030112  6.992770  6.827450  6.005932  4.433633  3.675674  \n",
       "21057  3.732432  2.178546  0.000000  1.209170  4.866613  8.129798  \n",
       "31455  5.992723       NaN  1.389077  1.276445  4.902887  8.539735  \n",
       "63555       NaN       NaN       NaN       NaN       NaN       NaN  \n",
       "82784       NaN       NaN       NaN       NaN       NaN       NaN  \n",
       "45667  6.557846  0.000000  2.001470  0.000000  3.366045  5.516298  \n",
       "26611  6.914417  2.096513  3.798460  2.416352  4.762874  9.163867  \n",
       "22464       NaN  3.512542       NaN       NaN       NaN       NaN  \n",
       "87015  2.493078  1.704776  1.624797  2.486087  3.609065  6.589724  "
      ]
     },
     "execution_count": 6,
     "metadata": {},
     "output_type": "execute_result"
    }
   ],
   "source": [
    "df.sample(20)"
   ]
  },
  {
   "cell_type": "code",
   "execution_count": 7,
   "metadata": {},
   "outputs": [
    {
     "name": "stdout",
     "output_type": "stream",
     "text": [
      "<class 'pandas.core.frame.DataFrame'>\n",
      "RangeIndex: 87840 entries, 0 to 87839\n",
      "Data columns (total 19 columns):\n",
      " #   Column  Non-Null Count  Dtype  \n",
      "---  ------  --------------  -----  \n",
      " 0   0       87840 non-null  object \n",
      " 1   AC 1    43708 non-null  float64\n",
      " 2   AC 2    43711 non-null  float64\n",
      " 3   AC 3    43713 non-null  float64\n",
      " 4   AC 4    43704 non-null  float64\n",
      " 5   AC 5    43716 non-null  float64\n",
      " 6   AC 6    43717 non-null  float64\n",
      " 7   AC 7    43679 non-null  float64\n",
      " 8   AC 8    43704 non-null  float64\n",
      " 9   AC 9    43654 non-null  float64\n",
      " 10  AC 10   43690 non-null  float64\n",
      " 11  AC 11   43670 non-null  float64\n",
      " 12  AC 12   43713 non-null  float64\n",
      " 13  AC 13   43719 non-null  float64\n",
      " 14  AC 14   43696 non-null  float64\n",
      " 15  AC 15   43715 non-null  float64\n",
      " 16  AC 16   43710 non-null  float64\n",
      " 17  AC 17   43714 non-null  float64\n",
      " 18  AC 18   43723 non-null  float64\n",
      "dtypes: float64(18), object(1)\n",
      "memory usage: 12.7+ MB\n"
     ]
    }
   ],
   "source": [
    "df.info()"
   ]
  },
  {
   "cell_type": "code",
   "execution_count": 8,
   "metadata": {
    "scrolled": true
   },
   "outputs": [
    {
     "data": {
      "text/html": [
       "<div>\n",
       "<style scoped>\n",
       "    .dataframe tbody tr th:only-of-type {\n",
       "        vertical-align: middle;\n",
       "    }\n",
       "\n",
       "    .dataframe tbody tr th {\n",
       "        vertical-align: top;\n",
       "    }\n",
       "\n",
       "    .dataframe thead th {\n",
       "        text-align: right;\n",
       "    }\n",
       "</style>\n",
       "<table border=\"1\" class=\"dataframe\">\n",
       "  <thead>\n",
       "    <tr style=\"text-align: right;\">\n",
       "      <th></th>\n",
       "      <th>0</th>\n",
       "      <th>AC 1</th>\n",
       "      <th>AC 2</th>\n",
       "      <th>AC 3</th>\n",
       "      <th>AC 4</th>\n",
       "      <th>AC 5</th>\n",
       "      <th>AC 6</th>\n",
       "      <th>AC 7</th>\n",
       "      <th>AC 8</th>\n",
       "      <th>AC 9</th>\n",
       "      <th>AC 10</th>\n",
       "      <th>AC 11</th>\n",
       "      <th>AC 12</th>\n",
       "      <th>AC 13</th>\n",
       "      <th>AC 14</th>\n",
       "      <th>AC 15</th>\n",
       "      <th>AC 16</th>\n",
       "      <th>AC 17</th>\n",
       "      <th>AC 18</th>\n",
       "    </tr>\n",
       "  </thead>\n",
       "  <tbody>\n",
       "    <tr>\n",
       "      <th>0</th>\n",
       "      <td>False</td>\n",
       "      <td>False</td>\n",
       "      <td>False</td>\n",
       "      <td>False</td>\n",
       "      <td>False</td>\n",
       "      <td>False</td>\n",
       "      <td>False</td>\n",
       "      <td>False</td>\n",
       "      <td>False</td>\n",
       "      <td>False</td>\n",
       "      <td>False</td>\n",
       "      <td>False</td>\n",
       "      <td>False</td>\n",
       "      <td>False</td>\n",
       "      <td>False</td>\n",
       "      <td>False</td>\n",
       "      <td>False</td>\n",
       "      <td>False</td>\n",
       "      <td>False</td>\n",
       "    </tr>\n",
       "    <tr>\n",
       "      <th>1</th>\n",
       "      <td>False</td>\n",
       "      <td>True</td>\n",
       "      <td>True</td>\n",
       "      <td>True</td>\n",
       "      <td>True</td>\n",
       "      <td>True</td>\n",
       "      <td>True</td>\n",
       "      <td>True</td>\n",
       "      <td>True</td>\n",
       "      <td>True</td>\n",
       "      <td>True</td>\n",
       "      <td>True</td>\n",
       "      <td>True</td>\n",
       "      <td>True</td>\n",
       "      <td>True</td>\n",
       "      <td>True</td>\n",
       "      <td>True</td>\n",
       "      <td>True</td>\n",
       "      <td>True</td>\n",
       "    </tr>\n",
       "    <tr>\n",
       "      <th>2</th>\n",
       "      <td>False</td>\n",
       "      <td>False</td>\n",
       "      <td>False</td>\n",
       "      <td>False</td>\n",
       "      <td>False</td>\n",
       "      <td>False</td>\n",
       "      <td>False</td>\n",
       "      <td>False</td>\n",
       "      <td>False</td>\n",
       "      <td>False</td>\n",
       "      <td>False</td>\n",
       "      <td>False</td>\n",
       "      <td>False</td>\n",
       "      <td>False</td>\n",
       "      <td>False</td>\n",
       "      <td>False</td>\n",
       "      <td>False</td>\n",
       "      <td>False</td>\n",
       "      <td>False</td>\n",
       "    </tr>\n",
       "    <tr>\n",
       "      <th>3</th>\n",
       "      <td>False</td>\n",
       "      <td>True</td>\n",
       "      <td>True</td>\n",
       "      <td>True</td>\n",
       "      <td>True</td>\n",
       "      <td>True</td>\n",
       "      <td>True</td>\n",
       "      <td>True</td>\n",
       "      <td>True</td>\n",
       "      <td>True</td>\n",
       "      <td>True</td>\n",
       "      <td>True</td>\n",
       "      <td>True</td>\n",
       "      <td>True</td>\n",
       "      <td>True</td>\n",
       "      <td>True</td>\n",
       "      <td>True</td>\n",
       "      <td>True</td>\n",
       "      <td>True</td>\n",
       "    </tr>\n",
       "    <tr>\n",
       "      <th>4</th>\n",
       "      <td>False</td>\n",
       "      <td>False</td>\n",
       "      <td>False</td>\n",
       "      <td>False</td>\n",
       "      <td>False</td>\n",
       "      <td>False</td>\n",
       "      <td>False</td>\n",
       "      <td>False</td>\n",
       "      <td>False</td>\n",
       "      <td>False</td>\n",
       "      <td>False</td>\n",
       "      <td>False</td>\n",
       "      <td>False</td>\n",
       "      <td>False</td>\n",
       "      <td>False</td>\n",
       "      <td>False</td>\n",
       "      <td>False</td>\n",
       "      <td>False</td>\n",
       "      <td>False</td>\n",
       "    </tr>\n",
       "    <tr>\n",
       "      <th>...</th>\n",
       "      <td>...</td>\n",
       "      <td>...</td>\n",
       "      <td>...</td>\n",
       "      <td>...</td>\n",
       "      <td>...</td>\n",
       "      <td>...</td>\n",
       "      <td>...</td>\n",
       "      <td>...</td>\n",
       "      <td>...</td>\n",
       "      <td>...</td>\n",
       "      <td>...</td>\n",
       "      <td>...</td>\n",
       "      <td>...</td>\n",
       "      <td>...</td>\n",
       "      <td>...</td>\n",
       "      <td>...</td>\n",
       "      <td>...</td>\n",
       "      <td>...</td>\n",
       "      <td>...</td>\n",
       "    </tr>\n",
       "    <tr>\n",
       "      <th>87835</th>\n",
       "      <td>False</td>\n",
       "      <td>False</td>\n",
       "      <td>False</td>\n",
       "      <td>False</td>\n",
       "      <td>False</td>\n",
       "      <td>False</td>\n",
       "      <td>False</td>\n",
       "      <td>False</td>\n",
       "      <td>False</td>\n",
       "      <td>False</td>\n",
       "      <td>False</td>\n",
       "      <td>False</td>\n",
       "      <td>False</td>\n",
       "      <td>False</td>\n",
       "      <td>False</td>\n",
       "      <td>False</td>\n",
       "      <td>False</td>\n",
       "      <td>False</td>\n",
       "      <td>False</td>\n",
       "    </tr>\n",
       "    <tr>\n",
       "      <th>87836</th>\n",
       "      <td>False</td>\n",
       "      <td>True</td>\n",
       "      <td>True</td>\n",
       "      <td>True</td>\n",
       "      <td>True</td>\n",
       "      <td>True</td>\n",
       "      <td>True</td>\n",
       "      <td>True</td>\n",
       "      <td>True</td>\n",
       "      <td>True</td>\n",
       "      <td>True</td>\n",
       "      <td>True</td>\n",
       "      <td>True</td>\n",
       "      <td>True</td>\n",
       "      <td>True</td>\n",
       "      <td>True</td>\n",
       "      <td>True</td>\n",
       "      <td>True</td>\n",
       "      <td>True</td>\n",
       "    </tr>\n",
       "    <tr>\n",
       "      <th>87837</th>\n",
       "      <td>False</td>\n",
       "      <td>False</td>\n",
       "      <td>False</td>\n",
       "      <td>False</td>\n",
       "      <td>False</td>\n",
       "      <td>False</td>\n",
       "      <td>False</td>\n",
       "      <td>False</td>\n",
       "      <td>False</td>\n",
       "      <td>False</td>\n",
       "      <td>False</td>\n",
       "      <td>False</td>\n",
       "      <td>False</td>\n",
       "      <td>False</td>\n",
       "      <td>False</td>\n",
       "      <td>False</td>\n",
       "      <td>False</td>\n",
       "      <td>False</td>\n",
       "      <td>False</td>\n",
       "    </tr>\n",
       "    <tr>\n",
       "      <th>87838</th>\n",
       "      <td>False</td>\n",
       "      <td>True</td>\n",
       "      <td>True</td>\n",
       "      <td>True</td>\n",
       "      <td>True</td>\n",
       "      <td>True</td>\n",
       "      <td>True</td>\n",
       "      <td>True</td>\n",
       "      <td>True</td>\n",
       "      <td>True</td>\n",
       "      <td>True</td>\n",
       "      <td>True</td>\n",
       "      <td>True</td>\n",
       "      <td>True</td>\n",
       "      <td>True</td>\n",
       "      <td>True</td>\n",
       "      <td>True</td>\n",
       "      <td>True</td>\n",
       "      <td>True</td>\n",
       "    </tr>\n",
       "    <tr>\n",
       "      <th>87839</th>\n",
       "      <td>False</td>\n",
       "      <td>False</td>\n",
       "      <td>False</td>\n",
       "      <td>False</td>\n",
       "      <td>False</td>\n",
       "      <td>False</td>\n",
       "      <td>False</td>\n",
       "      <td>False</td>\n",
       "      <td>False</td>\n",
       "      <td>False</td>\n",
       "      <td>False</td>\n",
       "      <td>False</td>\n",
       "      <td>False</td>\n",
       "      <td>False</td>\n",
       "      <td>False</td>\n",
       "      <td>False</td>\n",
       "      <td>False</td>\n",
       "      <td>False</td>\n",
       "      <td>False</td>\n",
       "    </tr>\n",
       "  </tbody>\n",
       "</table>\n",
       "<p>87840 rows × 19 columns</p>\n",
       "</div>"
      ],
      "text/plain": [
       "           0   AC 1   AC 2   AC 3   AC 4   AC 5   AC 6   AC 7   AC 8   AC 9  \\\n",
       "0      False  False  False  False  False  False  False  False  False  False   \n",
       "1      False   True   True   True   True   True   True   True   True   True   \n",
       "2      False  False  False  False  False  False  False  False  False  False   \n",
       "3      False   True   True   True   True   True   True   True   True   True   \n",
       "4      False  False  False  False  False  False  False  False  False  False   \n",
       "...      ...    ...    ...    ...    ...    ...    ...    ...    ...    ...   \n",
       "87835  False  False  False  False  False  False  False  False  False  False   \n",
       "87836  False   True   True   True   True   True   True   True   True   True   \n",
       "87837  False  False  False  False  False  False  False  False  False  False   \n",
       "87838  False   True   True   True   True   True   True   True   True   True   \n",
       "87839  False  False  False  False  False  False  False  False  False  False   \n",
       "\n",
       "       AC 10  AC 11  AC 12  AC 13  AC 14  AC 15  AC 16  AC 17  AC 18  \n",
       "0      False  False  False  False  False  False  False  False  False  \n",
       "1       True   True   True   True   True   True   True   True   True  \n",
       "2      False  False  False  False  False  False  False  False  False  \n",
       "3       True   True   True   True   True   True   True   True   True  \n",
       "4      False  False  False  False  False  False  False  False  False  \n",
       "...      ...    ...    ...    ...    ...    ...    ...    ...    ...  \n",
       "87835  False  False  False  False  False  False  False  False  False  \n",
       "87836   True   True   True   True   True   True   True   True   True  \n",
       "87837  False  False  False  False  False  False  False  False  False  \n",
       "87838   True   True   True   True   True   True   True   True   True  \n",
       "87839  False  False  False  False  False  False  False  False  False  \n",
       "\n",
       "[87840 rows x 19 columns]"
      ]
     },
     "execution_count": 8,
     "metadata": {},
     "output_type": "execute_result"
    }
   ],
   "source": [
    "df.isnull()"
   ]
  },
  {
   "cell_type": "code",
   "execution_count": 9,
   "metadata": {
    "scrolled": true
   },
   "outputs": [
    {
     "data": {
      "text/plain": [
       "0            0\n",
       "AC 1     44132\n",
       "AC 2     44129\n",
       "AC 3     44127\n",
       "AC 4     44136\n",
       "AC 5     44124\n",
       "AC 6     44123\n",
       "AC 7     44161\n",
       "AC 8     44136\n",
       "AC 9     44186\n",
       "AC 10    44150\n",
       "AC 11    44170\n",
       "AC 12    44127\n",
       "AC 13    44121\n",
       "AC 14    44144\n",
       "AC 15    44125\n",
       "AC 16    44130\n",
       "AC 17    44126\n",
       "AC 18    44117\n",
       "dtype: int64"
      ]
     },
     "execution_count": 9,
     "metadata": {},
     "output_type": "execute_result"
    }
   ],
   "source": [
    "df.isnull().sum()"
   ]
  },
  {
   "cell_type": "markdown",
   "metadata": {},
   "source": [
    "### There are a lot of Null Values in the data set and we have to remove them "
   ]
  },
  {
   "cell_type": "code",
   "execution_count": 10,
   "metadata": {},
   "outputs": [
    {
     "data": {
      "text/plain": [
       "<AxesSubplot:>"
      ]
     },
     "execution_count": 10,
     "metadata": {},
     "output_type": "execute_result"
    },
    {
     "data": {
      "image/png": "[encoded data removed]",
      "text/plain": [
       "<Figure size 432x288 with 2 Axes>"
      ]
     },
     "metadata": {
      "needs_background": "light"
     },
     "output_type": "display_data"
    }
   ],
   "source": [
    "sns.heatmap(df.isnull(),yticklabels=False)"
   ]
  },
  {
   "cell_type": "markdown",
   "metadata": {},
   "source": [
    "# Dropping the null values we get"
   ]
  },
  {
   "cell_type": "code",
   "execution_count": 55,
   "metadata": {},
   "outputs": [],
   "source": [
    "pk=df.dropna(inplace=True)"
   ]
  },
  {
   "cell_type": "code",
   "execution_count": 56,
   "metadata": {
    "scrolled": false
   },
   "outputs": [
    {
     "data": {
      "text/plain": [
       "<AxesSubplot:>"
      ]
     },
     "execution_count": 56,
     "metadata": {},
     "output_type": "execute_result"
    },
    {
     "data": {
      "image/png": "[encoded data removed]",
      "text/plain": [
       "<Figure size 432x288 with 2 Axes>"
      ]
     },
     "metadata": {
      "needs_background": "light"
     },
     "output_type": "display_data"
    }
   ],
   "source": [
    "sns.heatmap(df.isnull(),yticklabels=False,cmap='viridis')"
   ]
  },
  {
   "cell_type": "code",
   "execution_count": 57,
   "metadata": {},
   "outputs": [
    {
     "data": {
      "text/plain": [
       "658198"
      ]
     },
     "execution_count": 57,
     "metadata": {},
     "output_type": "execute_result"
    }
   ],
   "source": [
    "df.size"
   ]
  },
  {
   "cell_type": "markdown",
   "metadata": {},
   "source": [
    "### Thus we have completely removed the null values"
   ]
  },
  {
   "cell_type": "code",
   "execution_count": 58,
   "metadata": {
    "scrolled": true
   },
   "outputs": [
    {
     "data": {
      "text/plain": [
       "0        0\n",
       "AC 1     0\n",
       "AC 2     0\n",
       "AC 3     0\n",
       "AC 4     0\n",
       "AC 5     0\n",
       "AC 6     0\n",
       "AC 7     0\n",
       "AC 8     0\n",
       "AC 9     0\n",
       "AC 10    0\n",
       "AC 11    0\n",
       "AC 12    0\n",
       "AC 13    0\n",
       "AC 14    0\n",
       "AC 15    0\n",
       "AC 16    0\n",
       "AC 17    0\n",
       "AC 18    0\n",
       "dtype: int64"
      ]
     },
     "execution_count": 58,
     "metadata": {},
     "output_type": "execute_result"
    }
   ],
   "source": [
    "df.isnull().sum()"
   ]
  },
  {
   "cell_type": "markdown",
   "metadata": {},
   "source": [
    "### Checking the couts of various values"
   ]
  },
  {
   "cell_type": "code",
   "execution_count": 59,
   "metadata": {
    "scrolled": true
   },
   "outputs": [
    {
     "data": {
      "text/plain": [
       "0.000000    11570\n",
       "4.524078        2\n",
       "3.236229        2\n",
       "3.164794        2\n",
       "2.677030        2\n",
       "            ...  \n",
       "1.728054        1\n",
       "1.671445        1\n",
       "1.325024        1\n",
       "9.032090        1\n",
       "2.903986        1\n",
       "Name: AC 1, Length: 23054, dtype: int64"
      ]
     },
     "execution_count": 59,
     "metadata": {},
     "output_type": "execute_result"
    }
   ],
   "source": [
    "df['AC 1'].value_counts()"
   ]
  },
  {
   "cell_type": "markdown",
   "metadata": {},
   "source": [
    "* most of the values are Zero only"
   ]
  },
  {
   "cell_type": "code",
   "execution_count": 16,
   "metadata": {},
   "outputs": [
    {
     "data": {
      "text/plain": [
       "0.000000    3613\n",
       "2.724344       2\n",
       "9.111302       2\n",
       "8.880957       2\n",
       "3.511699       2\n",
       "            ... \n",
       "4.648177       1\n",
       "5.150027       1\n",
       "6.687699       1\n",
       "3.177287       1\n",
       "1.721356       1\n",
       "Name: AC 2, Length: 31006, dtype: int64"
      ]
     },
     "execution_count": 16,
     "metadata": {},
     "output_type": "execute_result"
    }
   ],
   "source": [
    "df['AC 2'].value_counts()"
   ]
  },
  {
   "cell_type": "markdown",
   "metadata": {},
   "source": [
    "* I felt that the column named '0' has nothing to do with so I dropped it"
   ]
  },
  {
   "cell_type": "code",
   "execution_count": 17,
   "metadata": {
    "scrolled": true
   },
   "outputs": [
    {
     "data": {
      "text/html": [
       "<div>\n",
       "<style scoped>\n",
       "    .dataframe tbody tr th:only-of-type {\n",
       "        vertical-align: middle;\n",
       "    }\n",
       "\n",
       "    .dataframe tbody tr th {\n",
       "        vertical-align: top;\n",
       "    }\n",
       "\n",
       "    .dataframe thead th {\n",
       "        text-align: right;\n",
       "    }\n",
       "</style>\n",
       "<table border=\"1\" class=\"dataframe\">\n",
       "  <thead>\n",
       "    <tr style=\"text-align: right;\">\n",
       "      <th></th>\n",
       "      <th>AC 1</th>\n",
       "      <th>AC 2</th>\n",
       "      <th>AC 3</th>\n",
       "      <th>AC 4</th>\n",
       "      <th>AC 5</th>\n",
       "      <th>AC 6</th>\n",
       "      <th>AC 7</th>\n",
       "      <th>AC 8</th>\n",
       "      <th>AC 9</th>\n",
       "      <th>AC 10</th>\n",
       "      <th>AC 11</th>\n",
       "      <th>AC 12</th>\n",
       "      <th>AC 13</th>\n",
       "      <th>AC 14</th>\n",
       "      <th>AC 15</th>\n",
       "      <th>AC 16</th>\n",
       "      <th>AC 17</th>\n",
       "      <th>AC 18</th>\n",
       "    </tr>\n",
       "  </thead>\n",
       "  <tbody>\n",
       "    <tr>\n",
       "      <th>0</th>\n",
       "      <td>7.518632</td>\n",
       "      <td>8.788315</td>\n",
       "      <td>0.000000</td>\n",
       "      <td>0.000000</td>\n",
       "      <td>2.617045</td>\n",
       "      <td>4.079041</td>\n",
       "      <td>2.782276</td>\n",
       "      <td>4.624447</td>\n",
       "      <td>5.222060</td>\n",
       "      <td>2.151238</td>\n",
       "      <td>1.585072</td>\n",
       "      <td>0.560373</td>\n",
       "      <td>3.142941</td>\n",
       "      <td>2.749470</td>\n",
       "      <td>5.417774</td>\n",
       "      <td>4.113460</td>\n",
       "      <td>3.305072</td>\n",
       "      <td>6.735981</td>\n",
       "    </tr>\n",
       "    <tr>\n",
       "      <th>2</th>\n",
       "      <td>7.426114</td>\n",
       "      <td>8.940615</td>\n",
       "      <td>0.000000</td>\n",
       "      <td>0.000000</td>\n",
       "      <td>2.581625</td>\n",
       "      <td>3.781231</td>\n",
       "      <td>2.529366</td>\n",
       "      <td>5.057423</td>\n",
       "      <td>5.349465</td>\n",
       "      <td>2.414715</td>\n",
       "      <td>2.168184</td>\n",
       "      <td>1.818730</td>\n",
       "      <td>3.085110</td>\n",
       "      <td>2.720484</td>\n",
       "      <td>3.302422</td>\n",
       "      <td>3.986483</td>\n",
       "      <td>3.220588</td>\n",
       "      <td>6.379500</td>\n",
       "    </tr>\n",
       "    <tr>\n",
       "      <th>4</th>\n",
       "      <td>7.052986</td>\n",
       "      <td>9.161103</td>\n",
       "      <td>0.000000</td>\n",
       "      <td>0.000000</td>\n",
       "      <td>2.592095</td>\n",
       "      <td>3.800127</td>\n",
       "      <td>2.332304</td>\n",
       "      <td>6.322521</td>\n",
       "      <td>3.995392</td>\n",
       "      <td>2.237114</td>\n",
       "      <td>3.345624</td>\n",
       "      <td>2.310409</td>\n",
       "      <td>3.132799</td>\n",
       "      <td>2.676861</td>\n",
       "      <td>3.539026</td>\n",
       "      <td>3.797881</td>\n",
       "      <td>3.131560</td>\n",
       "      <td>6.363475</td>\n",
       "    </tr>\n",
       "    <tr>\n",
       "      <th>6</th>\n",
       "      <td>6.665446</td>\n",
       "      <td>9.065626</td>\n",
       "      <td>0.000000</td>\n",
       "      <td>0.000000</td>\n",
       "      <td>2.575639</td>\n",
       "      <td>3.772891</td>\n",
       "      <td>2.596200</td>\n",
       "      <td>5.805132</td>\n",
       "      <td>3.553778</td>\n",
       "      <td>1.878356</td>\n",
       "      <td>2.737645</td>\n",
       "      <td>2.510972</td>\n",
       "      <td>3.090007</td>\n",
       "      <td>2.666604</td>\n",
       "      <td>4.607439</td>\n",
       "      <td>3.062610</td>\n",
       "      <td>3.063953</td>\n",
       "      <td>6.127366</td>\n",
       "    </tr>\n",
       "    <tr>\n",
       "      <th>8</th>\n",
       "      <td>6.674838</td>\n",
       "      <td>9.096130</td>\n",
       "      <td>0.000000</td>\n",
       "      <td>0.000000</td>\n",
       "      <td>2.021472</td>\n",
       "      <td>3.155697</td>\n",
       "      <td>2.845417</td>\n",
       "      <td>6.315060</td>\n",
       "      <td>3.042244</td>\n",
       "      <td>1.914650</td>\n",
       "      <td>2.452500</td>\n",
       "      <td>2.171791</td>\n",
       "      <td>3.097202</td>\n",
       "      <td>2.710572</td>\n",
       "      <td>5.332696</td>\n",
       "      <td>2.640150</td>\n",
       "      <td>2.864680</td>\n",
       "      <td>5.662474</td>\n",
       "    </tr>\n",
       "    <tr>\n",
       "      <th>...</th>\n",
       "      <td>...</td>\n",
       "      <td>...</td>\n",
       "      <td>...</td>\n",
       "      <td>...</td>\n",
       "      <td>...</td>\n",
       "      <td>...</td>\n",
       "      <td>...</td>\n",
       "      <td>...</td>\n",
       "      <td>...</td>\n",
       "      <td>...</td>\n",
       "      <td>...</td>\n",
       "      <td>...</td>\n",
       "      <td>...</td>\n",
       "      <td>...</td>\n",
       "      <td>...</td>\n",
       "      <td>...</td>\n",
       "      <td>...</td>\n",
       "      <td>...</td>\n",
       "    </tr>\n",
       "    <tr>\n",
       "      <th>87831</th>\n",
       "      <td>0.000000</td>\n",
       "      <td>6.089533</td>\n",
       "      <td>2.322677</td>\n",
       "      <td>1.422932</td>\n",
       "      <td>0.000000</td>\n",
       "      <td>0.000000</td>\n",
       "      <td>3.729901</td>\n",
       "      <td>3.747301</td>\n",
       "      <td>3.578350</td>\n",
       "      <td>1.714157</td>\n",
       "      <td>5.146438</td>\n",
       "      <td>3.253012</td>\n",
       "      <td>2.464426</td>\n",
       "      <td>2.829701</td>\n",
       "      <td>3.693877</td>\n",
       "      <td>1.992432</td>\n",
       "      <td>3.029462</td>\n",
       "      <td>7.202612</td>\n",
       "    </tr>\n",
       "    <tr>\n",
       "      <th>87833</th>\n",
       "      <td>0.000000</td>\n",
       "      <td>6.046765</td>\n",
       "      <td>2.195754</td>\n",
       "      <td>1.861175</td>\n",
       "      <td>0.813454</td>\n",
       "      <td>0.000000</td>\n",
       "      <td>3.666080</td>\n",
       "      <td>3.017628</td>\n",
       "      <td>3.600397</td>\n",
       "      <td>1.547953</td>\n",
       "      <td>4.379771</td>\n",
       "      <td>3.144666</td>\n",
       "      <td>3.045807</td>\n",
       "      <td>2.693068</td>\n",
       "      <td>4.090679</td>\n",
       "      <td>1.944854</td>\n",
       "      <td>3.048858</td>\n",
       "      <td>7.348333</td>\n",
       "    </tr>\n",
       "    <tr>\n",
       "      <th>87835</th>\n",
       "      <td>0.000000</td>\n",
       "      <td>6.122385</td>\n",
       "      <td>2.192198</td>\n",
       "      <td>2.083315</td>\n",
       "      <td>1.046250</td>\n",
       "      <td>0.000000</td>\n",
       "      <td>3.668421</td>\n",
       "      <td>3.006311</td>\n",
       "      <td>3.614301</td>\n",
       "      <td>1.860847</td>\n",
       "      <td>5.019769</td>\n",
       "      <td>3.154221</td>\n",
       "      <td>3.648026</td>\n",
       "      <td>2.439526</td>\n",
       "      <td>4.062719</td>\n",
       "      <td>1.854352</td>\n",
       "      <td>3.027539</td>\n",
       "      <td>7.259989</td>\n",
       "    </tr>\n",
       "    <tr>\n",
       "      <th>87837</th>\n",
       "      <td>1.209176</td>\n",
       "      <td>6.152532</td>\n",
       "      <td>2.211421</td>\n",
       "      <td>0.000000</td>\n",
       "      <td>1.448103</td>\n",
       "      <td>0.000000</td>\n",
       "      <td>3.151248</td>\n",
       "      <td>2.871690</td>\n",
       "      <td>3.417942</td>\n",
       "      <td>2.185493</td>\n",
       "      <td>5.174168</td>\n",
       "      <td>2.772349</td>\n",
       "      <td>3.786657</td>\n",
       "      <td>2.060023</td>\n",
       "      <td>4.057525</td>\n",
       "      <td>1.870886</td>\n",
       "      <td>2.991946</td>\n",
       "      <td>7.134647</td>\n",
       "    </tr>\n",
       "    <tr>\n",
       "      <th>87839</th>\n",
       "      <td>1.430442</td>\n",
       "      <td>6.078281</td>\n",
       "      <td>1.891162</td>\n",
       "      <td>0.000000</td>\n",
       "      <td>1.577491</td>\n",
       "      <td>4.364239</td>\n",
       "      <td>3.126339</td>\n",
       "      <td>3.287224</td>\n",
       "      <td>3.986978</td>\n",
       "      <td>2.013912</td>\n",
       "      <td>4.821829</td>\n",
       "      <td>3.363855</td>\n",
       "      <td>3.380110</td>\n",
       "      <td>1.949240</td>\n",
       "      <td>4.026304</td>\n",
       "      <td>1.862166</td>\n",
       "      <td>3.009434</td>\n",
       "      <td>7.179719</td>\n",
       "    </tr>\n",
       "  </tbody>\n",
       "</table>\n",
       "<p>34642 rows × 18 columns</p>\n",
       "</div>"
      ],
      "text/plain": [
       "           AC 1      AC 2      AC 3      AC 4      AC 5      AC 6      AC 7  \\\n",
       "0      7.518632  8.788315  0.000000  0.000000  2.617045  4.079041  2.782276   \n",
       "2      7.426114  8.940615  0.000000  0.000000  2.581625  3.781231  2.529366   \n",
       "4      7.052986  9.161103  0.000000  0.000000  2.592095  3.800127  2.332304   \n",
       "6      6.665446  9.065626  0.000000  0.000000  2.575639  3.772891  2.596200   \n",
       "8      6.674838  9.096130  0.000000  0.000000  2.021472  3.155697  2.845417   \n",
       "...         ...       ...       ...       ...       ...       ...       ...   \n",
       "87831  0.000000  6.089533  2.322677  1.422932  0.000000  0.000000  3.729901   \n",
       "87833  0.000000  6.046765  2.195754  1.861175  0.813454  0.000000  3.666080   \n",
       "87835  0.000000  6.122385  2.192198  2.083315  1.046250  0.000000  3.668421   \n",
       "87837  1.209176  6.152532  2.211421  0.000000  1.448103  0.000000  3.151248   \n",
       "87839  1.430442  6.078281  1.891162  0.000000  1.577491  4.364239  3.126339   \n",
       "\n",
       "           AC 8      AC 9     AC 10     AC 11     AC 12     AC 13     AC 14  \\\n",
       "0      4.624447  5.222060  2.151238  1.585072  0.560373  3.142941  2.749470   \n",
       "2      5.057423  5.349465  2.414715  2.168184  1.818730  3.085110  2.720484   \n",
       "4      6.322521  3.995392  2.237114  3.345624  2.310409  3.132799  2.676861   \n",
       "6      5.805132  3.553778  1.878356  2.737645  2.510972  3.090007  2.666604   \n",
       "8      6.315060  3.042244  1.914650  2.452500  2.171791  3.097202  2.710572   \n",
       "...         ...       ...       ...       ...       ...       ...       ...   \n",
       "87831  3.747301  3.578350  1.714157  5.146438  3.253012  2.464426  2.829701   \n",
       "87833  3.017628  3.600397  1.547953  4.379771  3.144666  3.045807  2.693068   \n",
       "87835  3.006311  3.614301  1.860847  5.019769  3.154221  3.648026  2.439526   \n",
       "87837  2.871690  3.417942  2.185493  5.174168  2.772349  3.786657  2.060023   \n",
       "87839  3.287224  3.986978  2.013912  4.821829  3.363855  3.380110  1.949240   \n",
       "\n",
       "          AC 15     AC 16     AC 17     AC 18  \n",
       "0      5.417774  4.113460  3.305072  6.735981  \n",
       "2      3.302422  3.986483  3.220588  6.379500  \n",
       "4      3.539026  3.797881  3.131560  6.363475  \n",
       "6      4.607439  3.062610  3.063953  6.127366  \n",
       "8      5.332696  2.640150  2.864680  5.662474  \n",
       "...         ...       ...       ...       ...  \n",
       "87831  3.693877  1.992432  3.029462  7.202612  \n",
       "87833  4.090679  1.944854  3.048858  7.348333  \n",
       "87835  4.062719  1.854352  3.027539  7.259989  \n",
       "87837  4.057525  1.870886  2.991946  7.134647  \n",
       "87839  4.026304  1.862166  3.009434  7.179719  \n",
       "\n",
       "[34642 rows x 18 columns]"
      ]
     },
     "execution_count": 17,
     "metadata": {},
     "output_type": "execute_result"
    }
   ],
   "source": [
    "df.drop(columns=['0'])"
   ]
  },
  {
   "cell_type": "markdown",
   "metadata": {},
   "source": [
    "## Calculating the sum of power consumed by all the AC's Independently"
   ]
  },
  {
   "cell_type": "code",
   "execution_count": 18,
   "metadata": {},
   "outputs": [
    {
     "name": "stdout",
     "output_type": "stream",
     "text": [
      " sum of AC 1 is 82936.04491068122\n",
      " sum of AC 2 is 134136.0906047946\n",
      " sum of AC 3 is 86767.7651320982\n",
      " sum of AC 4 is 80136.76223144743\n",
      " sum of AC 5 is 50800.56989750784\n",
      " sum of AC 6 is 93847.29454928085\n",
      " sum of AC 7 is 102025.3876261083\n",
      " sum of AC 8 is 88994.9321277946\n",
      " sum of AC 9 is 109119.50361113316\n",
      " sum of AC 10 is 53327.65713668186\n",
      " sum of AC 11 is 86125.61889539628\n",
      " sum of AC 12 is 97550.84517573101\n",
      " sum of AC 13 is 149411.0744080098\n",
      " sum of AC 14 is 102438.45986642007\n",
      " sum of AC 15 is 142868.3328609073\n",
      " sum of AC 16 is 95809.47417427474\n",
      " sum of AC 17 is 147405.83881611394\n",
      " sum of AC 18 is 223573.07607886364\n"
     ]
    }
   ],
   "source": [
    "l=['AC 1','AC 2','AC 3','AC 4','AC 5','AC 6','AC 7','AC 8','AC 9','AC 10','AC 11','AC 12','AC 13','AC 14','AC 15','AC 16','AC 17','AC 18']\n",
    "for x in l:\n",
    "    p=df[x]\n",
    "    print(f' sum of {x} is {sum(p)}')\n",
    "    "
   ]
  },
  {
   "cell_type": "markdown",
   "metadata": {},
   "source": [
    "* Creating a dictionary which has the key as name of AC and value is the sum of Power consumed by it. So when we provide some number of AC then It will be easy to see"
   ]
  },
  {
   "cell_type": "code",
   "execution_count": 19,
   "metadata": {},
   "outputs": [],
   "source": [
    "dic={}"
   ]
  },
  {
   "cell_type": "code",
   "execution_count": 20,
   "metadata": {},
   "outputs": [],
   "source": [
    "for x in l:\n",
    "    p=df[x]\n",
    "    dic[x]=sum(p)"
   ]
  },
  {
   "cell_type": "code",
   "execution_count": 21,
   "metadata": {},
   "outputs": [
    {
     "name": "stdout",
     "output_type": "stream",
     "text": [
      "{'AC 1': 82936.04491068122, 'AC 2': 134136.0906047946, 'AC 3': 86767.7651320982, 'AC 4': 80136.76223144743, 'AC 5': 50800.56989750784, 'AC 6': 93847.29454928085, 'AC 7': 102025.3876261083, 'AC 8': 88994.9321277946, 'AC 9': 109119.50361113316, 'AC 10': 53327.65713668186, 'AC 11': 86125.61889539628, 'AC 12': 97550.84517573101, 'AC 13': 149411.0744080098, 'AC 14': 102438.45986642007, 'AC 15': 142868.3328609073, 'AC 16': 95809.47417427474, 'AC 17': 147405.83881611394, 'AC 18': 223573.07607886364}\n"
     ]
    }
   ],
   "source": [
    "print(dic)"
   ]
  },
  {
   "cell_type": "code",
   "execution_count": 22,
   "metadata": {},
   "outputs": [],
   "source": [
    "l1=[]"
   ]
  },
  {
   "cell_type": "code",
   "execution_count": 23,
   "metadata": {},
   "outputs": [],
   "source": [
    "for x in l:\n",
    "    p=df[x]\n",
    "    p=sum(p)\n",
    "    l1.append(p)"
   ]
  },
  {
   "cell_type": "code",
   "execution_count": 24,
   "metadata": {},
   "outputs": [
    {
     "name": "stdout",
     "output_type": "stream",
     "text": [
      "[82936.04491068122, 134136.0906047946, 86767.7651320982, 80136.76223144743, 50800.56989750784, 93847.29454928085, 102025.3876261083, 88994.9321277946, 109119.50361113316, 53327.65713668186, 86125.61889539628, 97550.84517573101, 149411.0744080098, 102438.45986642007, 142868.3328609073, 95809.47417427474, 147405.83881611394, 223573.07607886364]\n"
     ]
    }
   ],
   "source": [
    "print(l1)"
   ]
  },
  {
   "cell_type": "code",
   "execution_count": 25,
   "metadata": {},
   "outputs": [
    {
     "name": "stdout",
     "output_type": "stream",
     "text": [
      "223573.07607886364\n"
     ]
    }
   ],
   "source": [
    "print(max(l1))"
   ]
  },
  {
   "cell_type": "code",
   "execution_count": 26,
   "metadata": {},
   "outputs": [],
   "source": [
    "val=223573.07607886364"
   ]
  },
  {
   "cell_type": "code",
   "execution_count": 27,
   "metadata": {},
   "outputs": [
    {
     "name": "stdout",
     "output_type": "stream",
     "text": [
      "AC 18\n"
     ]
    }
   ],
   "source": [
    "for key,value in dic.items():\n",
    "    if(val==value):\n",
    "        print(key)"
   ]
  },
  {
   "cell_type": "markdown",
   "metadata": {},
   "source": [
    "# Thus AC 18 consumed more power than all other AC's because it has the highest sum of power consumption"
   ]
  },
  {
   "cell_type": "code",
   "execution_count": 28,
   "metadata": {
    "scrolled": true
   },
   "outputs": [
    {
     "name": "stdout",
     "output_type": "stream",
     "text": [
      "50800.56989750784\n"
     ]
    }
   ],
   "source": [
    "print(min(l1))"
   ]
  },
  {
   "cell_type": "code",
   "execution_count": 29,
   "metadata": {},
   "outputs": [],
   "source": [
    "min_val=50800.56989750784"
   ]
  },
  {
   "cell_type": "code",
   "execution_count": 30,
   "metadata": {},
   "outputs": [
    {
     "name": "stdout",
     "output_type": "stream",
     "text": [
      "AC 5\n"
     ]
    }
   ],
   "source": [
    "for key,value in dic.items():\n",
    "    if(min_val==value):\n",
    "        print(key)"
   ]
  },
  {
   "cell_type": "markdown",
   "metadata": {},
   "source": [
    "# Thus AC 5 consumes less power because it has the lowest sum of power consumption"
   ]
  },
  {
   "cell_type": "markdown",
   "metadata": {},
   "source": [
    "* checking the distribution of power consumption"
   ]
  },
  {
   "cell_type": "code",
   "execution_count": 32,
   "metadata": {
    "scrolled": true
   },
   "outputs": [
    {
     "data": {
      "text/plain": [
       "<AxesSubplot:xlabel='AC 18', ylabel='Density'>"
      ]
     },
     "execution_count": 32,
     "metadata": {},
     "output_type": "execute_result"
    },
    {
     "data": {
      "image/png": "[encoded data removed]",
      "text/plain": [
       "<Figure size 432x288 with 1 Axes>"
      ]
     },
     "metadata": {
      "needs_background": "light"
     },
     "output_type": "display_data"
    }
   ],
   "source": [
    "sns.distplot(df['AC 18'])"
   ]
  },
  {
   "cell_type": "code",
   "execution_count": 33,
   "metadata": {
    "scrolled": true
   },
   "outputs": [
    {
     "data": {
      "text/plain": [
       "<AxesSubplot:xlabel='AC 18'>"
      ]
     },
     "execution_count": 33,
     "metadata": {},
     "output_type": "execute_result"
    },
    {
     "data": {
      "image/png": "[encoded data removed]",
      "text/plain": [
       "<Figure size 432x288 with 1 Axes>"
      ]
     },
     "metadata": {
      "needs_background": "light"
     },
     "output_type": "display_data"
    }
   ],
   "source": [
    "sns.boxplot(x=df['AC 18'])"
   ]
  },
  {
   "cell_type": "markdown",
   "metadata": {},
   "source": [
    "> The most of power consumption of AC 18 lies between 4 units and >8 units\n",
    "\n",
    "> The median consumption lies between 6 and 8, i.e almost >7.1"
   ]
  },
  {
   "cell_type": "code",
   "execution_count": 34,
   "metadata": {
    "scrolled": true
   },
   "outputs": [
    {
     "data": {
      "text/plain": [
       "<AxesSubplot:xlabel='AC 5'>"
      ]
     },
     "execution_count": 34,
     "metadata": {},
     "output_type": "execute_result"
    },
    {
     "data": {
      "image/png": "[encoded data removed]",
      "text/plain": [
       "<Figure size 432x288 with 1 Axes>"
      ]
     },
     "metadata": {
      "needs_background": "light"
     },
     "output_type": "display_data"
    }
   ],
   "source": [
    "sns.boxplot(x=df['AC 5'])"
   ]
  },
  {
   "cell_type": "markdown",
   "metadata": {},
   "source": [
    "> There are many outliers in the power consumption data of AC 5\n",
    "\n",
    "> Most the values are in between 1 and 2. so we can confirm that it's the only AC that's consuming least power"
   ]
  },
  {
   "cell_type": "code",
   "execution_count": 35,
   "metadata": {},
   "outputs": [
    {
     "data": {
      "text/plain": [
       "<AxesSubplot:xlabel='AC 1'>"
      ]
     },
     "execution_count": 35,
     "metadata": {},
     "output_type": "execute_result"
    },
    {
     "data": {
      "image/png": "[encoded data removed]",
      "text/plain": [
       "<Figure size 432x288 with 1 Axes>"
      ]
     },
     "metadata": {
      "needs_background": "light"
     },
     "output_type": "display_data"
    }
   ],
   "source": [
    "sns.boxplot(x=df['AC 1'])"
   ]
  },
  {
   "cell_type": "code",
   "execution_count": 36,
   "metadata": {},
   "outputs": [
    {
     "data": {
      "text/plain": [
       "<AxesSubplot:ylabel='Density'>"
      ]
     },
     "execution_count": 36,
     "metadata": {},
     "output_type": "execute_result"
    },
    {
     "data": {
      "image/png": "[encoded data removed]",
      "text/plain": [
       "<Figure size 432x288 with 1 Axes>"
      ]
     },
     "metadata": {
      "needs_background": "light"
     },
     "output_type": "display_data"
    }
   ],
   "source": [
    "sns.distplot(x=df['AC 5'])"
   ]
  },
  {
   "cell_type": "markdown",
   "metadata": {},
   "source": [
    "* finding the mean,median and mode of total sum of power consumption"
   ]
  },
  {
   "cell_type": "code",
   "execution_count": 60,
   "metadata": {
    "scrolled": true
   },
   "outputs": [
    {
     "name": "stdout",
     "output_type": "stream",
     "text": [
      "[82936.04491068122, 134136.0906047946, 86767.7651320982, 80136.76223144743, 50800.56989750784, 93847.29454928085, 102025.3876261083, 88994.9321277946, 109119.50361113316, 53327.65713668186, 86125.61889539628, 97550.84517573101, 149411.0744080098, 102438.45986642007, 142868.3328609073, 95809.47417427474, 147405.83881611394, 223573.07607886364]\n"
     ]
    }
   ],
   "source": [
    "print(l1)"
   ]
  },
  {
   "cell_type": "code",
   "execution_count": 61,
   "metadata": {},
   "outputs": [],
   "source": [
    "arr=np.array(l1)"
   ]
  },
  {
   "cell_type": "code",
   "execution_count": 64,
   "metadata": {},
   "outputs": [
    {
     "name": "stdout",
     "output_type": "stream",
     "text": [
      "the total consumption would be: 1927274.7281032451 units of power\n"
     ]
    }
   ],
   "source": [
    "print(f'the total consumption would be: {sum(arr)} units of power')"
   ]
  },
  {
   "cell_type": "code",
   "execution_count": 39,
   "metadata": {},
   "outputs": [
    {
     "name": "stdout",
     "output_type": "stream",
     "text": [
      "107070.81822795804\n"
     ]
    }
   ],
   "source": [
    "print(arr.mean())"
   ]
  },
  {
   "cell_type": "code",
   "execution_count": 40,
   "metadata": {},
   "outputs": [
    {
     "data": {
      "text/plain": [
       "96680.15967500288"
      ]
     },
     "execution_count": 40,
     "metadata": {},
     "output_type": "execute_result"
    }
   ],
   "source": [
    "np.median(arr)"
   ]
  },
  {
   "cell_type": "code",
   "execution_count": 42,
   "metadata": {},
   "outputs": [],
   "source": [
    "from scipy import stats\n"
   ]
  },
  {
   "cell_type": "code",
   "execution_count": 43,
   "metadata": {},
   "outputs": [
    {
     "data": {
      "text/plain": [
       "ModeResult(mode=array([50800.56989751]), count=array([1]))"
      ]
     },
     "execution_count": 43,
     "metadata": {},
     "output_type": "execute_result"
    }
   ],
   "source": [
    "stats.mode(arr)"
   ]
  },
  {
   "cell_type": "code",
   "execution_count": 44,
   "metadata": {
    "scrolled": true
   },
   "outputs": [
    {
     "data": {
      "text/html": [
       "<div>\n",
       "<style scoped>\n",
       "    .dataframe tbody tr th:only-of-type {\n",
       "        vertical-align: middle;\n",
       "    }\n",
       "\n",
       "    .dataframe tbody tr th {\n",
       "        vertical-align: top;\n",
       "    }\n",
       "\n",
       "    .dataframe thead th {\n",
       "        text-align: right;\n",
       "    }\n",
       "</style>\n",
       "<table border=\"1\" class=\"dataframe\">\n",
       "  <thead>\n",
       "    <tr style=\"text-align: right;\">\n",
       "      <th></th>\n",
       "      <th>AC 1</th>\n",
       "      <th>AC 2</th>\n",
       "      <th>AC 3</th>\n",
       "      <th>AC 4</th>\n",
       "      <th>AC 5</th>\n",
       "      <th>AC 6</th>\n",
       "      <th>AC 7</th>\n",
       "      <th>AC 8</th>\n",
       "      <th>AC 9</th>\n",
       "      <th>AC 10</th>\n",
       "      <th>AC 11</th>\n",
       "      <th>AC 12</th>\n",
       "      <th>AC 13</th>\n",
       "      <th>AC 14</th>\n",
       "      <th>AC 15</th>\n",
       "      <th>AC 16</th>\n",
       "      <th>AC 17</th>\n",
       "      <th>AC 18</th>\n",
       "    </tr>\n",
       "  </thead>\n",
       "  <tbody>\n",
       "    <tr>\n",
       "      <th>count</th>\n",
       "      <td>34642.000000</td>\n",
       "      <td>34642.000000</td>\n",
       "      <td>34642.000000</td>\n",
       "      <td>34642.000000</td>\n",
       "      <td>34642.000000</td>\n",
       "      <td>34642.000000</td>\n",
       "      <td>34642.000000</td>\n",
       "      <td>34642.000000</td>\n",
       "      <td>34642.000000</td>\n",
       "      <td>34642.000000</td>\n",
       "      <td>34642.000000</td>\n",
       "      <td>34642.000000</td>\n",
       "      <td>34642.000000</td>\n",
       "      <td>34642.000000</td>\n",
       "      <td>34642.000000</td>\n",
       "      <td>34642.000000</td>\n",
       "      <td>34642.000000</td>\n",
       "      <td>34642.000000</td>\n",
       "    </tr>\n",
       "    <tr>\n",
       "      <th>mean</th>\n",
       "      <td>2.394089</td>\n",
       "      <td>3.872065</td>\n",
       "      <td>2.504698</td>\n",
       "      <td>2.313283</td>\n",
       "      <td>1.466444</td>\n",
       "      <td>2.709061</td>\n",
       "      <td>2.945136</td>\n",
       "      <td>2.568989</td>\n",
       "      <td>3.149919</td>\n",
       "      <td>1.539393</td>\n",
       "      <td>2.486162</td>\n",
       "      <td>2.815970</td>\n",
       "      <td>4.313004</td>\n",
       "      <td>2.957060</td>\n",
       "      <td>4.124136</td>\n",
       "      <td>2.765703</td>\n",
       "      <td>4.255119</td>\n",
       "      <td>6.453815</td>\n",
       "    </tr>\n",
       "    <tr>\n",
       "      <th>std</th>\n",
       "      <td>2.309156</td>\n",
       "      <td>2.360155</td>\n",
       "      <td>1.452713</td>\n",
       "      <td>1.705811</td>\n",
       "      <td>0.748515</td>\n",
       "      <td>1.590249</td>\n",
       "      <td>1.487934</td>\n",
       "      <td>1.531968</td>\n",
       "      <td>1.534838</td>\n",
       "      <td>0.700372</td>\n",
       "      <td>1.588902</td>\n",
       "      <td>1.402622</td>\n",
       "      <td>1.872007</td>\n",
       "      <td>1.505043</td>\n",
       "      <td>2.003805</td>\n",
       "      <td>1.538245</td>\n",
       "      <td>1.078238</td>\n",
       "      <td>2.249975</td>\n",
       "    </tr>\n",
       "    <tr>\n",
       "      <th>min</th>\n",
       "      <td>0.000000</td>\n",
       "      <td>0.000000</td>\n",
       "      <td>0.000000</td>\n",
       "      <td>0.000000</td>\n",
       "      <td>0.000000</td>\n",
       "      <td>0.000000</td>\n",
       "      <td>0.000000</td>\n",
       "      <td>0.000000</td>\n",
       "      <td>0.000000</td>\n",
       "      <td>0.000000</td>\n",
       "      <td>0.000000</td>\n",
       "      <td>0.000000</td>\n",
       "      <td>0.000000</td>\n",
       "      <td>0.000000</td>\n",
       "      <td>0.000000</td>\n",
       "      <td>0.000000</td>\n",
       "      <td>0.000000</td>\n",
       "      <td>0.000000</td>\n",
       "    </tr>\n",
       "    <tr>\n",
       "      <th>25%</th>\n",
       "      <td>0.000000</td>\n",
       "      <td>2.272895</td>\n",
       "      <td>1.663072</td>\n",
       "      <td>1.279719</td>\n",
       "      <td>1.008326</td>\n",
       "      <td>1.877316</td>\n",
       "      <td>2.161931</td>\n",
       "      <td>1.766606</td>\n",
       "      <td>2.273552</td>\n",
       "      <td>1.106887</td>\n",
       "      <td>1.640117</td>\n",
       "      <td>2.066214</td>\n",
       "      <td>3.273092</td>\n",
       "      <td>1.855093</td>\n",
       "      <td>3.025756</td>\n",
       "      <td>1.867401</td>\n",
       "      <td>3.773065</td>\n",
       "      <td>4.006869</td>\n",
       "    </tr>\n",
       "    <tr>\n",
       "      <th>50%</th>\n",
       "      <td>2.081296</td>\n",
       "      <td>3.738743</td>\n",
       "      <td>2.417197</td>\n",
       "      <td>2.255593</td>\n",
       "      <td>1.408948</td>\n",
       "      <td>2.819162</td>\n",
       "      <td>2.976191</td>\n",
       "      <td>2.622136</td>\n",
       "      <td>3.046702</td>\n",
       "      <td>1.500257</td>\n",
       "      <td>2.409043</td>\n",
       "      <td>2.824786</td>\n",
       "      <td>4.239078</td>\n",
       "      <td>2.794645</td>\n",
       "      <td>4.092966</td>\n",
       "      <td>2.685934</td>\n",
       "      <td>4.624716</td>\n",
       "      <td>7.072846</td>\n",
       "    </tr>\n",
       "    <tr>\n",
       "      <th>75%</th>\n",
       "      <td>3.767716</td>\n",
       "      <td>5.334570</td>\n",
       "      <td>3.351791</td>\n",
       "      <td>3.313595</td>\n",
       "      <td>1.903034</td>\n",
       "      <td>3.742868</td>\n",
       "      <td>3.852767</td>\n",
       "      <td>3.538364</td>\n",
       "      <td>4.046424</td>\n",
       "      <td>1.977836</td>\n",
       "      <td>3.362753</td>\n",
       "      <td>3.660599</td>\n",
       "      <td>5.433044</td>\n",
       "      <td>3.892646</td>\n",
       "      <td>5.409613</td>\n",
       "      <td>3.701203</td>\n",
       "      <td>4.977744</td>\n",
       "      <td>8.252815</td>\n",
       "    </tr>\n",
       "    <tr>\n",
       "      <th>max</th>\n",
       "      <td>11.194789</td>\n",
       "      <td>11.147141</td>\n",
       "      <td>8.430909</td>\n",
       "      <td>9.849144</td>\n",
       "      <td>5.495358</td>\n",
       "      <td>9.929291</td>\n",
       "      <td>9.356776</td>\n",
       "      <td>9.331506</td>\n",
       "      <td>10.026747</td>\n",
       "      <td>4.625030</td>\n",
       "      <td>10.363151</td>\n",
       "      <td>9.887306</td>\n",
       "      <td>9.796393</td>\n",
       "      <td>9.054969</td>\n",
       "      <td>10.349998</td>\n",
       "      <td>9.789502</td>\n",
       "      <td>5.950261</td>\n",
       "      <td>11.040031</td>\n",
       "    </tr>\n",
       "  </tbody>\n",
       "</table>\n",
       "</div>"
      ],
      "text/plain": [
       "               AC 1          AC 2          AC 3          AC 4          AC 5  \\\n",
       "count  34642.000000  34642.000000  34642.000000  34642.000000  34642.000000   \n",
       "mean       2.394089      3.872065      2.504698      2.313283      1.466444   \n",
       "std        2.309156      2.360155      1.452713      1.705811      0.748515   \n",
       "min        0.000000      0.000000      0.000000      0.000000      0.000000   \n",
       "25%        0.000000      2.272895      1.663072      1.279719      1.008326   \n",
       "50%        2.081296      3.738743      2.417197      2.255593      1.408948   \n",
       "75%        3.767716      5.334570      3.351791      3.313595      1.903034   \n",
       "max       11.194789     11.147141      8.430909      9.849144      5.495358   \n",
       "\n",
       "               AC 6          AC 7          AC 8          AC 9         AC 10  \\\n",
       "count  34642.000000  34642.000000  34642.000000  34642.000000  34642.000000   \n",
       "mean       2.709061      2.945136      2.568989      3.149919      1.539393   \n",
       "std        1.590249      1.487934      1.531968      1.534838      0.700372   \n",
       "min        0.000000      0.000000      0.000000      0.000000      0.000000   \n",
       "25%        1.877316      2.161931      1.766606      2.273552      1.106887   \n",
       "50%        2.819162      2.976191      2.622136      3.046702      1.500257   \n",
       "75%        3.742868      3.852767      3.538364      4.046424      1.977836   \n",
       "max        9.929291      9.356776      9.331506     10.026747      4.625030   \n",
       "\n",
       "              AC 11         AC 12         AC 13         AC 14         AC 15  \\\n",
       "count  34642.000000  34642.000000  34642.000000  34642.000000  34642.000000   \n",
       "mean       2.486162      2.815970      4.313004      2.957060      4.124136   \n",
       "std        1.588902      1.402622      1.872007      1.505043      2.003805   \n",
       "min        0.000000      0.000000      0.000000      0.000000      0.000000   \n",
       "25%        1.640117      2.066214      3.273092      1.855093      3.025756   \n",
       "50%        2.409043      2.824786      4.239078      2.794645      4.092966   \n",
       "75%        3.362753      3.660599      5.433044      3.892646      5.409613   \n",
       "max       10.363151      9.887306      9.796393      9.054969     10.349998   \n",
       "\n",
       "              AC 16         AC 17         AC 18  \n",
       "count  34642.000000  34642.000000  34642.000000  \n",
       "mean       2.765703      4.255119      6.453815  \n",
       "std        1.538245      1.078238      2.249975  \n",
       "min        0.000000      0.000000      0.000000  \n",
       "25%        1.867401      3.773065      4.006869  \n",
       "50%        2.685934      4.624716      7.072846  \n",
       "75%        3.701203      4.977744      8.252815  \n",
       "max        9.789502      5.950261     11.040031  "
      ]
     },
     "execution_count": 44,
     "metadata": {},
     "output_type": "execute_result"
    }
   ],
   "source": [
    "df.describe()"
   ]
  },
  {
   "cell_type": "markdown",
   "metadata": {},
   "source": [
    "* Running statistics on the data frame df, we find that AC 1 Has highest consumption invidually with 11.194 units\n",
    "* Minimum value is 0 for every AC\n",
    "* the count of values is almost same for each AC i.e 34642.000000\n",
    "* We can also see the mean consumption of each AC"
   ]
  },
  {
   "cell_type": "code",
   "execution_count": 45,
   "metadata": {},
   "outputs": [
    {
     "name": "stdout",
     "output_type": "stream",
     "text": [
      "11.1947890625\n"
     ]
    }
   ],
   "source": [
    "print(max(df['AC 1']))"
   ]
  },
  {
   "cell_type": "code",
   "execution_count": 52,
   "metadata": {},
   "outputs": [],
   "source": [
    "l=[2.394089,3.872065,2.504698,2.313283,1.466444,2.709061,2.945136,2.568989,3.149919,1.539393,2.486162,2.815970,4.313004,2.957060,4.124136,2.765703,4.255119,6.453815]"
   ]
  },
  {
   "cell_type": "code",
   "execution_count": 53,
   "metadata": {},
   "outputs": [],
   "source": [
    "arr=np.array(l)"
   ]
  },
  {
   "cell_type": "code",
   "execution_count": 54,
   "metadata": {},
   "outputs": [
    {
     "data": {
      "text/plain": [
       "3.090780333333333"
      ]
     },
     "execution_count": 54,
     "metadata": {},
     "output_type": "execute_result"
    }
   ],
   "source": [
    "arr.mean()"
   ]
  },
  {
   "cell_type": "markdown",
   "metadata": {},
   "source": [
    "### on average each AC atleast consumes 3.0907 units of power"
   ]
  },
  {
   "cell_type": "markdown",
   "metadata": {},
   "source": [
    "# Outside temperatures"
   ]
  },
  {
   "cell_type": "markdown",
   "metadata": {},
   "source": [
    "* if temperature outside is really high the AC's has to function more to comfort people inside.. Thus they require more power to do that. So Outside temperature is directly proportional to the power consumption"
   ]
  },
  {
   "cell_type": "markdown",
   "metadata": {},
   "source": [
    "* If Temperature increases thus the power consumption also increases"
   ]
  },
  {
   "cell_type": "markdown",
   "metadata": {},
   "source": [
    "> temperature data is hard to get from external sources , if temperature data was provided within the data set, then it would have been  more useful to predict the consumption against the external temperature using regression etc.."
   ]
  },
  {
   "cell_type": "markdown",
   "metadata": {},
   "source": [
    "* on an average the whole AC's grouped together would consume atleast 107070.81822795804 units of power "
   ]
  },
  {
   "cell_type": "code",
   "execution_count": null,
   "metadata": {},
   "outputs": [],
   "source": []
  }
 ],
 "metadata": {
  "kernelspec": {
   "display_name": "Python 3",
   "language": "python",
   "name": "python3"
  },
  "language_info": {
   "codemirror_mode": {
    "name": "ipython",
    "version": 3
   },
   "file_extension": ".py",
   "mimetype": "text/x-python",
   "name": "python",
   "nbconvert_exporter": "python",
   "pygments_lexer": "ipython3",
   "version": "3.8.5"
  }
 },
 "nbformat": 4,
 "nbformat_minor": 4
}
